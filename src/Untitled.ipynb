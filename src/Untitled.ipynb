{
 "cells": [
  {
   "cell_type": "code",
   "execution_count": 157,
   "metadata": {
    "collapsed": false,
    "scrolled": false
   },
   "outputs": [],
   "source": [
    "import itertools\n",
    "import collections\n",
    "\n",
    "class DayCounter(object):\n",
    "    Day = collections.namedtuple('Day', \n",
    "                             ['date', 'month', 'year', 'dayofweek'])\n",
    "    \n",
    "    days = ['Monday', 'Tuesday', 'Wednesday', 'Thursday', 'Friday'\n",
    "           ,'Saturday', 'Sunday']\n",
    "    months = ['Jan', 'Feb', 'Mar', 'Apr', 'May', 'Jun', 'Jul'\n",
    "             ,'Aug', 'Sep', 'Oct', 'Nov', 'Dec']\n",
    "    \n",
    "    month_lengths = {\n",
    "        'Jan' : 31,\n",
    "        'Mar' : 31,\n",
    "        'Apr' : 30,\n",
    "        'May' : 31,\n",
    "        'Jun' : 30,\n",
    "        'Jul' : 31,\n",
    "        'Aug' : 31,\n",
    "        'Sep' : 30,\n",
    "        'Oct' : 31,\n",
    "        'Nov' : 30,\n",
    "        'Dec' : 31\n",
    "    }\n",
    "    \n",
    "    @staticmethod\n",
    "    def is_leapyear(year):\n",
    "        if year % 4 == 0:\n",
    "            if year % 100 == 0:\n",
    "                if year % 400 == 0:\n",
    "                    return True\n",
    "                else:\n",
    "                    return False\n",
    "            return True\n",
    "        else:\n",
    "            return False\n",
    "    \n",
    "    \n",
    "    def __init__(self, date, month, year, dayofweek, maxdays=1000):\n",
    "        self._date = date\n",
    "        self._month = month\n",
    "        self._year = year\n",
    "        self._dayofweek = dayofweek\n",
    "        self._maxdays = maxdays\n",
    "        self._count = 1\n",
    "        self._months_iter = itertools.cycle(__class__.months)\n",
    "        self._days_iter = itertools.cycle(__class__.days)\n",
    "        \n",
    "    def advance_date(self):\n",
    "        \n",
    "        self._dayofweek = next(self._days_iter)\n",
    "        if self._month == 'Feb':\n",
    "            if __class__.is_leapyear(self._year):\n",
    "                if self._date == 29:\n",
    "                    self.advance_month()\n",
    "                else:\n",
    "                    self._date += 1\n",
    "            else:\n",
    "                if self._date == 28:\n",
    "                    self.advance_month()\n",
    "                else:\n",
    "                    self._date += 1\n",
    "                    \n",
    "        else:\n",
    "            if self._date == __class__.month_lengths[self._month]:\n",
    "                self.advance_month()\n",
    "            else:\n",
    "                self._date += 1\n",
    "            \n",
    "                    \n",
    "    def advance_month(self):\n",
    "        self._date = 1\n",
    "        if self._month == 'Dec':\n",
    "            self._year += 1\n",
    "        self._month = next(self._months_iter)\n",
    "        \n",
    "        \n",
    "    def __iter__(self):\n",
    "        return self\n",
    "    \n",
    "    def __next__(self):\n",
    "\n",
    "        if self._count == self._maxdays:\n",
    "            raise StopIteration\n",
    "            \n",
    "        self.advance_date()\n",
    "\n",
    "        self._count += 1\n",
    "        \n",
    "        return __class__.Day(date=self._date, month=self._month, \n",
    "                            year=self._year, dayofweek=self._dayofweek)\n",
    "        "
   ]
  },
  {
   "cell_type": "code",
   "execution_count": 164,
   "metadata": {
    "collapsed": false,
    "scrolled": false
   },
   "outputs": [
    {
     "name": "stdout",
     "output_type": "stream",
     "text": [
      "173\n"
     ]
    }
   ],
   "source": [
    "d = DayCounter(1, 'Jan', 1900, 'Sunday', maxdays=365*250)\n",
    "\n",
    "def begin(d):\n",
    "    is_begin = d.date == 1 and d.month == 'Jan' and d.year == 1901\n",
    "    return is_begin\n",
    "    \n",
    "def end(d):\n",
    "    is_end = d.date == 31 and d.month == 'Dec' and d.year == 2000\n",
    "    return is_end\n",
    "\n",
    "def iter_between(iterable, func_start, func_end):\n",
    "    temp = itertools.dropwhile(lambda x: not func_start(x), iterable)\n",
    "    temp = itertools.takewhile(lambda x: not func_end(x), temp)\n",
    "    return temp\n",
    "\n",
    "count = 0\n",
    "totes = 0\n",
    "for i in iter_between(d, begin, end):\n",
    "    if i.date == 1 and i.dayofweek=='Sunday':\n",
    "        count += 1\n",
    "print(count)"
   ]
  },
  {
   "cell_type": "code",
   "execution_count": null,
   "metadata": {
    "collapsed": false
   },
   "outputs": [],
   "source": []
  },
  {
   "cell_type": "code",
   "execution_count": null,
   "metadata": {
    "collapsed": true
   },
   "outputs": [],
   "source": [
    ""
   ]
  }
 ],
 "metadata": {
  "kernelspec": {
   "display_name": "Python 3",
   "language": "python",
   "name": "python3"
  },
  "language_info": {
   "codemirror_mode": {
    "name": "ipython",
    "version": 3.0
   },
   "file_extension": ".py",
   "mimetype": "text/x-python",
   "name": "python",
   "nbconvert_exporter": "python",
   "pygments_lexer": "ipython3",
   "version": "3.6.0"
  }
 },
 "nbformat": 4,
 "nbformat_minor": 0
}