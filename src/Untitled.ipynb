{
 "cells": [
  {
   "cell_type": "code",
   "execution_count": 29,
   "metadata": {
    "collapsed": false,
    "scrolled": false
   },
   "outputs": [
    {
     "name": "stdout",
     "output_type": "stream",
     "text": [
      "262\n"
     ]
    }
   ],
   "source": [
    "import itertools\n",
    "import functools\n",
    "\n",
    "\n",
    "def collatz(val):\n",
    "    if val > 1:\n",
    "        if val % 2 == 0:\n",
    "            val = val // 2\n",
    "            yield val\n",
    "            yield from collatz(val)\n",
    "        else:\n",
    "            val = 3 * val + 1\n",
    "            yield val\n",
    "            yield from collatz(val)\n",
    "    \n",
    "\n",
    "def count_iterations(iterable):\n",
    "    count = 1 \n",
    "    for i in iterable:\n",
    "        count += 1\n",
    "    return count\n",
    "\n",
    "class count_collatz(object):\n",
    "    \n",
    "    \n",
    "    \n",
    "    def count_collatz(val):\n",
    "        if val > 1:\n",
    "            if val % 2 == 0:\n",
    "                val = val // 2\n",
    "                collatz(val)\n",
    "            else:\n",
    "                val = 3 * val + 1\n",
    "                collatz(val)\n",
    "\n",
    "N = 10**4\n",
    "print(max(count_iterations(collatz(i)) for i in range(N)))"
   ]
  },
  {
   "cell_type": "code",
   "execution_count": null,
   "metadata": {
    "collapsed": false,
    "scrolled": false
   },
   "outputs": [],
   "source": [
    ""
   ]
  }
 ],
 "metadata": {
  "kernelspec": {
   "display_name": "Python 3",
   "language": "python",
   "name": "python3"
  },
  "language_info": {
   "codemirror_mode": {
    "name": "ipython",
    "version": 3.0
   },
   "file_extension": ".py",
   "mimetype": "text/x-python",
   "name": "python",
   "nbconvert_exporter": "python",
   "pygments_lexer": "ipython3",
   "version": "3.6.0"
  }
 },
 "nbformat": 4,
 "nbformat_minor": 0
}